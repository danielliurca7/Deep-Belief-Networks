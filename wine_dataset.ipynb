{
 "metadata": {
  "language_info": {
   "codemirror_mode": {
    "name": "ipython",
    "version": 3
   },
   "file_extension": ".py",
   "mimetype": "text/x-python",
   "name": "python",
   "nbconvert_exporter": "python",
   "pygments_lexer": "ipython3",
   "version": "3.7.4-final"
  },
  "orig_nbformat": 2,
  "kernelspec": {
   "name": "python3",
   "display_name": "Python 3",
   "language": "python"
  }
 },
 "nbformat": 4,
 "nbformat_minor": 2,
 "cells": [
  {
   "cell_type": "code",
   "execution_count": 1,
   "metadata": {},
   "outputs": [],
   "source": [
    "import csv\n",
    "import numpy as np\n",
    "\n",
    "from sklearn.preprocessing import MinMaxScaler\n",
    "from sklearn.model_selection import train_test_split\n",
    "from sklearn.metrics.classification import accuracy_score\n",
    "from sklearn.metrics.regression import r2_score, mean_squared_error\n",
    "from sklearn.linear_model import LinearRegression, SGDRegressor, Ridge, Lasso, HuberRegressor\n",
    "from sklearn.pipeline import Pipeline\n",
    "from sklearn.model_selection import cross_val_score\n",
    "\n",
    "from dbn.tensorflow import SupervisedDBNRegression"
   ]
  },
  {
   "cell_type": "code",
   "execution_count": 2,
   "metadata": {
    "tags": []
   },
   "outputs": [],
   "source": [
    "X_red, Y_red = [], []\n",
    "X_white, Y_white = [], []\n",
    "\n",
    "\n",
    "with open('datasets/winequality-red.csv', newline='') as csvfile:\n",
    "    reader = csv.reader(csvfile, delimiter=';')\n",
    "    header = True\n",
    "\n",
    "    for row in reader:\n",
    "        if header:\n",
    "            header = False\n",
    "        else:\n",
    "            X_red.append([float(feature) for feature in row[:-1]])\n",
    "            Y_red.append(int(row[-1]))\n",
    "\n",
    "\n",
    "with open('datasets/winequality-white.csv', newline='') as csvfile:\n",
    "    reader = csv.reader(csvfile, delimiter=';')\n",
    "    header = True\n",
    "\n",
    "    for row in reader:\n",
    "        if header:\n",
    "            header = False\n",
    "        else:\n",
    "            X_white.append([float(feature) for feature in row[:-1]])\n",
    "            Y_white.append(int(row[-1]))\n",
    "\n",
    "\n",
    "X_red, Y_red, X_white, Y_white = np.array(X_red), np.array(Y_red), np.array(X_white), np.array(Y_white)"
   ]
  },
  {
   "cell_type": "code",
   "execution_count": 3,
   "metadata": {},
   "outputs": [
    {
     "output_type": "stream",
     "name": "stdout",
     "text": [
      "Test set r-squared score: 0.3293642538047954\n"
     ]
    }
   ],
   "source": [
    "X_train, X_test, Y_train, Y_test = train_test_split(X_red, Y_red, test_size=0.2, random_state=0)\n",
    "\n",
    "X_scaler = MinMaxScaler()\n",
    "X_train = X_scaler.fit_transform(X_train)\n",
    "X_test = X_scaler.transform(X_test)\n",
    "\n",
    "regressor = Ridge()\n",
    "\n",
    "regressor.fit(X_train, Y_train)\n",
    "print(f'Test set r-squared score: {regressor.score(X_test, Y_test)}')"
   ]
  },
  {
   "cell_type": "code",
   "execution_count": 4,
   "metadata": {},
   "outputs": [
    {
     "output_type": "stream",
     "name": "stdout",
     "text": [
      "Test set r-squared score: 0.3473308034958251\n"
     ]
    }
   ],
   "source": [
    "regressor = SupervisedDBNRegression(\n",
    "    hidden_layers_structure=[20, 10],\n",
    "    learning_rate_rbm=0.0003,\n",
    "    learning_rate=0.02,\n",
    "    n_epochs_rbm=20,\n",
    "    n_iter_backprop=100,\n",
    "    batch_size=8,\n",
    "    activation_function='relu',\n",
    "    verbose=False\n",
    ")\n",
    "\n",
    "\n",
    "regressor.fit(X_train, Y_train)\n",
    "print(f'Test set r-squared score: {regressor.score(X_test, Y_test)}')"
   ]
  },
  {
   "cell_type": "code",
   "execution_count": 5,
   "metadata": {},
   "outputs": [
    {
     "output_type": "stream",
     "name": "stdout",
     "text": [
      "6 5.681657\n5 5.1179867\n7 6.659705\n6 5.4389107\n5 5.679303\n6 5.3897684\n5 5.2437735\n6 6.1053934\n4 4.6525304\n5 5.0121393\n5 5.1854076\n5 5.3249855\n6 5.6137395\n5 5.096298\n6 5.434116\n6 6.438636\n7 6.922023\n5 5.646512\n5 5.351233\n4 5.141512\n7 6.4522367\n6 5.2327724\n6 5.5465493\n4 5.8542404\n6 5.4389075\n5 4.992988\n5 5.123665\n7 6.5631995\n5 5.169716\n6 6.357584\n"
     ]
    }
   ],
   "source": [
    "pred = regressor.predict(X_test)\n",
    "\n",
    "for i in range(30):\n",
    "    print(Y_test[i], pred[i][0])"
   ]
  },
  {
   "cell_type": "code",
   "execution_count": 6,
   "metadata": {
    "tags": []
   },
   "outputs": [
    {
     "output_type": "stream",
     "name": "stdout",
     "text": [
      "Test set r-squared score: 0.25788728218319523\n"
     ]
    }
   ],
   "source": [
    "X_train, X_test, Y_train, Y_test = train_test_split(X_white, Y_white, test_size=0.2, random_state=0)\n",
    "\n",
    "X_scaler = MinMaxScaler()\n",
    "X_train = X_scaler.fit_transform(X_train)\n",
    "X_test = X_scaler.transform(X_test)\n",
    "\n",
    "regressor = Ridge()\n",
    "\n",
    "regressor.fit(X_train, Y_train)\n",
    "print(f'Test set r-squared score: {regressor.score(X_test, Y_test)}')"
   ]
  },
  {
   "cell_type": "code",
   "execution_count": 7,
   "metadata": {
    "tags": []
   },
   "outputs": [
    {
     "output_type": "stream",
     "name": "stdout",
     "text": [
      "Test set r-squared score: 0.30096417836718434\n"
     ]
    }
   ],
   "source": [
    "regressor = SupervisedDBNRegression(\n",
    "    hidden_layers_structure=[20, 10],\n",
    "    learning_rate_rbm=0.0003,\n",
    "    learning_rate=0.02,\n",
    "    n_epochs_rbm=20,\n",
    "    n_iter_backprop=100,\n",
    "    batch_size=64,\n",
    "    activation_function='relu',\n",
    "    verbose=False\n",
    ")\n",
    "\n",
    "\n",
    "regressor.fit(X_train, Y_train)\n",
    "print(f'Test set r-squared score: {regressor.score(X_test, Y_test)}')"
   ]
  },
  {
   "cell_type": "code",
   "execution_count": 8,
   "metadata": {},
   "outputs": [
    {
     "output_type": "stream",
     "name": "stdout",
     "text": [
      "5 5.506027\n",
      "6 5.431491\n",
      "7 5.928523\n",
      "8 6.8523192\n",
      "5 5.602636\n",
      "4 4.713329\n",
      "6 6.4981065\n",
      "5 6.202039\n",
      "7 5.9339495\n",
      "5 5.687347\n",
      "6 5.688942\n",
      "7 5.6341057\n",
      "5 5.161984\n",
      "5 5.475436\n",
      "6 6.1718626\n",
      "5 5.6558027\n",
      "6 6.3385425\n",
      "5 5.434805\n",
      "6 6.495904\n",
      "6 6.1799836\n",
      "6 5.8362803\n",
      "7 6.0924616\n",
      "6 5.8617725\n",
      "5 5.6726454\n",
      "7 5.805807\n",
      "8 6.39778\n",
      "5 5.0400596\n",
      "5 5.0820694\n",
      "7 6.499633\n",
      "5 5.6022863\n"
     ]
    }
   ],
   "source": [
    "pred = regressor.predict(X_test)\n",
    "\n",
    "for i in range(30):\n",
    "    print(Y_test[i], pred[i][0])"
   ]
  },
  {
   "cell_type": "code",
   "execution_count": null,
   "metadata": {},
   "outputs": [],
   "source": []
  }
 ]
}