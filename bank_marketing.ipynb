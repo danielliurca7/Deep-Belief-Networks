{
 "cells": [
  {
   "cell_type": "code",
   "execution_count": 1,
   "metadata": {
    "collapsed": true
   },
   "outputs": [],
   "source": [
    "import numpy as np\n",
    "import pandas as pd\n",
    "\n",
    "from sklearn.preprocessing import LabelEncoder\n",
    "from sklearn import model_selection\n",
    "from sklearn.metrics import accuracy_score\n",
    "\n",
    "from dbn.tensorflow import SupervisedDBNClassification"
   ]
  },
  {
   "cell_type": "code",
   "execution_count": 2,
   "metadata": {},
   "outputs": [],
   "source": [
    "df = pd.read_csv('datasets/banking.csv')"
   ]
  },
  {
   "cell_type": "code",
   "execution_count": 3,
   "metadata": {
    "collapsed": true
   },
   "outputs": [],
   "source": [
    "df.drop(['duration','contact','month','day_of_week','default','pdays',], axis=1, inplace=True)\n",
    "df.replace(['basic.6y','basic.4y', 'basic.9y'], 'basic', inplace=True)"
   ]
  },
  {
   "cell_type": "code",
   "execution_count": 4,
   "metadata": {
    "collapsed": true
   },
   "outputs": [],
   "source": [
    "le_job = LabelEncoder()\n",
    "le_marital = LabelEncoder()\n",
    "le_education = LabelEncoder()\n",
    "le_other = LabelEncoder()"
   ]
  },
  {
   "cell_type": "code",
   "execution_count": 5,
   "metadata": {
    "collapsed": true
   },
   "outputs": [],
   "source": [
    "df.job = le_job.fit_transform(df.job)\n",
    "df.marital = le_marital.fit_transform(df.marital)\n",
    "df.education = le_education.fit_transform(df.education)\n",
    "df.housing = le_other.fit_transform(df.housing)\n",
    "df.loan = le_other.fit_transform(df.loan)\n",
    "df.poutcome = le_other.fit_transform(df.poutcome)"
   ]
  },
  {
   "cell_type": "code",
   "execution_count": 6,
   "metadata": {},
   "outputs": [],
   "source": [
    "X = df.iloc[:,0:14]\n",
    "y = df.iloc[:,14]"
   ]
  },
  {
   "cell_type": "code",
   "execution_count": 7,
   "metadata": {
    "collapsed": true
   },
   "outputs": [],
   "source": [
    "x_train, x_test, y_train, y_test = model_selection.train_test_split(X, y, test_size=0.2, random_state=0)"
   ]
  },
  {
   "cell_type": "code",
   "execution_count": 8,
   "metadata": {},
   "outputs": [],
   "source": [
    "classifier = SupervisedDBNClassification(\n",
    "    hidden_layers_structure=[20, 50],\n",
    "    learning_rate_rbm=0.003,\n",
    "    learning_rate=0.1,\n",
    "    n_epochs_rbm=10,\n",
    "    n_iter_backprop=30,\n",
    "    batch_size=128,\n",
    "    activation_function='relu',\n",
    "    verbose=False\n",
    ")\n",
    "\n",
    "classifier.fit(x_train.to_numpy(), y_train)\n",
    "pred = classifier.predict(x_test.to_numpy())"
   ]
  },
  {
   "cell_type": "code",
   "execution_count": 9,
   "metadata": {},
   "outputs": [
    {
     "output_type": "stream",
     "name": "stdout",
     "text": [
      "0.9291721291575625\n"
     ]
    }
   ],
   "source": [
    "print(accuracy_score(y_test, pred))"
   ]
  },
  {
   "cell_type": "code",
   "execution_count": 10,
   "metadata": {},
   "outputs": [],
   "source": [
    "y_test = y_test.to_numpy()\n",
    "fn = []\n",
    "\n",
    "for i in range(len(y_test)):\n",
    "    if y_test[i] == 1 and pred[i] == 0:\n",
    "        fn.append(x_test.iloc[i].astype('int32'))"
   ]
  },
  {
   "cell_type": "code",
   "execution_count": 11,
   "metadata": {},
   "outputs": [
    {
     "output_type": "stream",
     "name": "stdout",
     "text": [
      "age: 35 | job: admin. | marital: married | education: high.school | number phoned: 1\nage: 30 | job: student | marital: single | education: professional.course | number phoned: 4\nage: 51 | job: blue-collar | marital: married | education: basic | number phoned: 1\nage: 31 | job: admin. | marital: married | education: university.degree | number phoned: 2\nage: 30 | job: technician | marital: single | education: university.degree | number phoned: 1\nage: 56 | job: entrepreneur | marital: married | education: university.degree | number phoned: 2\nage: 42 | job: admin. | marital: married | education: professional.course | number phoned: 1\nage: 23 | job: student | marital: single | education: unknown | number phoned: 2\nage: 53 | job: management | marital: divorced | education: university.degree | number phoned: 2\nage: 62 | job: technician | marital: married | education: unknown | number phoned: 1\nage: 45 | job: admin. | marital: married | education: unknown | number phoned: 1\nage: 33 | job: admin. | marital: single | education: high.school | number phoned: 3\nage: 63 | job: housemaid | marital: married | education: basic | number phoned: 1\nage: 34 | job: technician | marital: single | education: university.degree | number phoned: 3\nage: 38 | job: technician | marital: married | education: professional.course | number phoned: 1\nage: 36 | job: blue-collar | marital: married | education: basic | number phoned: 3\nage: 39 | job: admin. | marital: married | education: basic | number phoned: 1\nage: 31 | job: admin. | marital: single | education: high.school | number phoned: 1\nage: 60 | job: admin. | marital: married | education: unknown | number phoned: 1\nage: 30 | job: admin. | marital: single | education: university.degree | number phoned: 1\n"
     ]
    }
   ],
   "source": [
    "for data in fn[:20]:\n",
    "    print(f\"age: {data['age']} | job: {le_job.inverse_transform([data['job']])[0]} | marital: {le_marital.inverse_transform([data['marital']])[0]} | education: {le_education.inverse_transform([data['education']])[0]} | number phoned: {data['campaign']}\")"
   ]
  },
  {
   "cell_type": "code",
   "execution_count": 12,
   "metadata": {},
   "outputs": [
    {
     "output_type": "stream",
     "name": "stdout",
     "text": [
      "admin.           264\ntechnician       170\nblue-collar      115\nretired           83\nservices          66\nmanagement        58\nstudent           50\nself-employed     29\nhousemaid         28\nunemployed        24\nentrepreneur      23\nunknown            3\nName: job, dtype: int64 \n\nuniversity.degree      345\nbasic                  211\nhigh.school            192\nprofessional.course    123\nunknown                 42\nName: education, dtype: int64 \n\nmarried     491\nsingle      328\ndivorced     92\nunknown       2\nName: marital, dtype: int64\n"
     ]
    }
   ],
   "source": [
    "fn_df = pd.DataFrame(fn, columns = x_test.columns)\n",
    "\n",
    "print(pd.DataFrame(le_job.inverse_transform(fn_df.job), columns=['job']).job.value_counts(), '\\n')\n",
    "print(pd.DataFrame(le_education.inverse_transform(fn_df.education), columns=['education']).education.value_counts(), '\\n')\n",
    "print(pd.DataFrame(le_marital.inverse_transform(fn_df.marital), columns=['marital']).marital.value_counts())"
   ]
  },
  {
   "cell_type": "code",
   "execution_count": null,
   "metadata": {},
   "outputs": [],
   "source": []
  }
 ],
 "metadata": {
  "kernelspec": {
   "display_name": "Python 3",
   "language": "python",
   "name": "python3"
  },
  "language_info": {
   "codemirror_mode": {
    "name": "ipython",
    "version": 3
   },
   "file_extension": ".py",
   "mimetype": "text/x-python",
   "name": "python",
   "nbconvert_exporter": "python",
   "pygments_lexer": "ipython3",
   "version": "3.7.4-final"
  }
 },
 "nbformat": 4,
 "nbformat_minor": 2
}